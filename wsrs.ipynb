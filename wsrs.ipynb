{
 "cells": [
  {
   "cell_type": "code",
   "execution_count": 1,
   "metadata": {},
   "outputs": [],
   "source": [
    "import numpy as np\n",
    "import pandas as pd\n",
    "import ast"
   ]
  },
  {
   "cell_type": "code",
   "execution_count": 2,
   "metadata": {},
   "outputs": [],
   "source": [
    "webseries = pd.read_csv('All_Streaming_Shows.csv')"
   ]
  },
  {
   "cell_type": "code",
   "execution_count": 3,
   "metadata": {},
   "outputs": [],
   "source": [
    "# Cleanning Dataset\n",
    "# series Title\n",
    "# Conternt Rating\n",
    "# Genre\n",
    "# Descripition\n",
    "# Streaming Platform\n",
    "webseries = webseries[['SeriesTitle','Genre','Description','StreamingPlatform']]"
   ]
  },
  {
   "cell_type": "code",
   "execution_count": 4,
   "metadata": {},
   "outputs": [],
   "source": [
    "webseries['Description'] = webseries['Description'].apply(lambda x:x.split())"
   ]
  },
  {
   "cell_type": "code",
   "execution_count": 5,
   "metadata": {},
   "outputs": [],
   "source": [
    "webseries['Genre'] = webseries['Genre'].apply(lambda x:x.split())"
   ]
  },
  {
   "cell_type": "code",
   "execution_count": 6,
   "metadata": {},
   "outputs": [],
   "source": [
    "webseries['StreamingPlatform'] = webseries['StreamingPlatform'].astype(str)\n",
    "\n",
    "# Remove spaces from the values\n",
    "webseries['StreamingPlatform'] = webseries['StreamingPlatform'].apply(lambda x: x.replace(\" \", \"\"))\n",
    "webseries['StreamingPlatform'] = webseries['StreamingPlatform'].apply(lambda x:x.split())"
   ]
  },
  {
   "cell_type": "code",
   "execution_count": 7,
   "metadata": {},
   "outputs": [],
   "source": [
    "webseries['tags'] =  webseries['Genre'] + webseries['Description'] + webseries['StreamingPlatform']"
   ]
  },
  {
   "cell_type": "code",
   "execution_count": 8,
   "metadata": {},
   "outputs": [
    {
     "data": {
      "text/html": [
       "<div>\n",
       "<style scoped>\n",
       "    .dataframe tbody tr th:only-of-type {\n",
       "        vertical-align: middle;\n",
       "    }\n",
       "\n",
       "    .dataframe tbody tr th {\n",
       "        vertical-align: top;\n",
       "    }\n",
       "\n",
       "    .dataframe thead th {\n",
       "        text-align: right;\n",
       "    }\n",
       "</style>\n",
       "<table border=\"1\" class=\"dataframe\">\n",
       "  <thead>\n",
       "    <tr style=\"text-align: right;\">\n",
       "      <th></th>\n",
       "      <th>SeriesTitle</th>\n",
       "      <th>Genre</th>\n",
       "      <th>Description</th>\n",
       "      <th>StreamingPlatform</th>\n",
       "      <th>tags</th>\n",
       "    </tr>\n",
       "  </thead>\n",
       "  <tbody>\n",
       "    <tr>\n",
       "      <th>0</th>\n",
       "      <td>Breaking Bad</td>\n",
       "      <td>[Crime,Drama]</td>\n",
       "      <td>[When, Walter, White,, a, New, Mexico, chemist...</td>\n",
       "      <td>[Netflix]</td>\n",
       "      <td>[Crime,Drama, When, Walter, White,, a, New, Me...</td>\n",
       "    </tr>\n",
       "    <tr>\n",
       "      <th>1</th>\n",
       "      <td>Game of Thrones</td>\n",
       "      <td>[Action, &amp;, Adventure,Drama]</td>\n",
       "      <td>[Seven, noble, families, fight, for, control, ...</td>\n",
       "      <td>[HBOMAX,HBO]</td>\n",
       "      <td>[Action, &amp;, Adventure,Drama, Seven, noble, fam...</td>\n",
       "    </tr>\n",
       "    <tr>\n",
       "      <th>2</th>\n",
       "      <td>Rick and Morty</td>\n",
       "      <td>[Animation,Comedy]</td>\n",
       "      <td>[Rick, is, a, mentally-unbalanced, but, scient...</td>\n",
       "      <td>[FreeServices,HBOMAX,Hulu]</td>\n",
       "      <td>[Animation,Comedy, Rick, is, a, mentally-unbal...</td>\n",
       "    </tr>\n",
       "    <tr>\n",
       "      <th>3</th>\n",
       "      <td>Stranger Things</td>\n",
       "      <td>[Drama,Fantasy]</td>\n",
       "      <td>[When, a, young, boy, vanishes,, a, small, tow...</td>\n",
       "      <td>[Netflix]</td>\n",
       "      <td>[Drama,Fantasy, When, a, young, boy, vanishes,...</td>\n",
       "    </tr>\n",
       "    <tr>\n",
       "      <th>4</th>\n",
       "      <td>The Boys</td>\n",
       "      <td>[Action, &amp;, Adventure,Comedy]</td>\n",
       "      <td>[A, group, of, vigilantes, known, informally, ...</td>\n",
       "      <td>[PrimeVideo]</td>\n",
       "      <td>[Action, &amp;, Adventure,Comedy, A, group, of, vi...</td>\n",
       "    </tr>\n",
       "  </tbody>\n",
       "</table>\n",
       "</div>"
      ],
      "text/plain": [
       "       SeriesTitle                          Genre  \\\n",
       "0     Breaking Bad                  [Crime,Drama]   \n",
       "1  Game of Thrones   [Action, &, Adventure,Drama]   \n",
       "2   Rick and Morty             [Animation,Comedy]   \n",
       "3  Stranger Things                [Drama,Fantasy]   \n",
       "4         The Boys  [Action, &, Adventure,Comedy]   \n",
       "\n",
       "                                         Description  \\\n",
       "0  [When, Walter, White,, a, New, Mexico, chemist...   \n",
       "1  [Seven, noble, families, fight, for, control, ...   \n",
       "2  [Rick, is, a, mentally-unbalanced, but, scient...   \n",
       "3  [When, a, young, boy, vanishes,, a, small, tow...   \n",
       "4  [A, group, of, vigilantes, known, informally, ...   \n",
       "\n",
       "            StreamingPlatform  \\\n",
       "0                   [Netflix]   \n",
       "1                [HBOMAX,HBO]   \n",
       "2  [FreeServices,HBOMAX,Hulu]   \n",
       "3                   [Netflix]   \n",
       "4                [PrimeVideo]   \n",
       "\n",
       "                                                tags  \n",
       "0  [Crime,Drama, When, Walter, White,, a, New, Me...  \n",
       "1  [Action, &, Adventure,Drama, Seven, noble, fam...  \n",
       "2  [Animation,Comedy, Rick, is, a, mentally-unbal...  \n",
       "3  [Drama,Fantasy, When, a, young, boy, vanishes,...  \n",
       "4  [Action, &, Adventure,Comedy, A, group, of, vi...  "
      ]
     },
     "execution_count": 8,
     "metadata": {},
     "output_type": "execute_result"
    }
   ],
   "source": [
    "webseries.head()"
   ]
  },
  {
   "cell_type": "code",
   "execution_count": 9,
   "metadata": {},
   "outputs": [],
   "source": [
    "new_df = webseries[['SeriesTitle','tags']]"
   ]
  },
  {
   "cell_type": "code",
   "execution_count": 10,
   "metadata": {},
   "outputs": [
    {
     "name": "stderr",
     "output_type": "stream",
     "text": [
      "C:\\Users\\ankit\\AppData\\Local\\Temp\\ipykernel_10572\\3089450492.py:1: SettingWithCopyWarning: \n",
      "A value is trying to be set on a copy of a slice from a DataFrame.\n",
      "Try using .loc[row_indexer,col_indexer] = value instead\n",
      "\n",
      "See the caveats in the documentation: https://pandas.pydata.org/pandas-docs/stable/user_guide/indexing.html#returning-a-view-versus-a-copy\n",
      "  new_df['tags'] = new_df['tags'].apply(lambda x:\" \".join(x))\n"
     ]
    }
   ],
   "source": [
    "new_df['tags'] = new_df['tags'].apply(lambda x:\" \".join(x))"
   ]
  },
  {
   "cell_type": "code",
   "execution_count": 11,
   "metadata": {},
   "outputs": [
    {
     "name": "stderr",
     "output_type": "stream",
     "text": [
      "C:\\Users\\ankit\\AppData\\Local\\Temp\\ipykernel_10572\\3214958533.py:1: SettingWithCopyWarning: \n",
      "A value is trying to be set on a copy of a slice from a DataFrame.\n",
      "Try using .loc[row_indexer,col_indexer] = value instead\n",
      "\n",
      "See the caveats in the documentation: https://pandas.pydata.org/pandas-docs/stable/user_guide/indexing.html#returning-a-view-versus-a-copy\n",
      "  new_df['tags'] = new_df['tags'].apply(lambda x:x.lower())\n"
     ]
    }
   ],
   "source": [
    "new_df['tags'] = new_df['tags'].apply(lambda x:x.lower())"
   ]
  },
  {
   "cell_type": "code",
   "execution_count": 12,
   "metadata": {},
   "outputs": [
    {
     "data": {
      "text/html": [
       "<div>\n",
       "<style scoped>\n",
       "    .dataframe tbody tr th:only-of-type {\n",
       "        vertical-align: middle;\n",
       "    }\n",
       "\n",
       "    .dataframe tbody tr th {\n",
       "        vertical-align: top;\n",
       "    }\n",
       "\n",
       "    .dataframe thead th {\n",
       "        text-align: right;\n",
       "    }\n",
       "</style>\n",
       "<table border=\"1\" class=\"dataframe\">\n",
       "  <thead>\n",
       "    <tr style=\"text-align: right;\">\n",
       "      <th></th>\n",
       "      <th>SeriesTitle</th>\n",
       "      <th>tags</th>\n",
       "    </tr>\n",
       "  </thead>\n",
       "  <tbody>\n",
       "    <tr>\n",
       "      <th>0</th>\n",
       "      <td>Breaking Bad</td>\n",
       "      <td>crime,drama when walter white, a new mexico ch...</td>\n",
       "    </tr>\n",
       "    <tr>\n",
       "      <th>1</th>\n",
       "      <td>Game of Thrones</td>\n",
       "      <td>action &amp; adventure,drama seven noble families ...</td>\n",
       "    </tr>\n",
       "    <tr>\n",
       "      <th>2</th>\n",
       "      <td>Rick and Morty</td>\n",
       "      <td>animation,comedy rick is a mentally-unbalanced...</td>\n",
       "    </tr>\n",
       "    <tr>\n",
       "      <th>3</th>\n",
       "      <td>Stranger Things</td>\n",
       "      <td>drama,fantasy when a young boy vanishes, a sma...</td>\n",
       "    </tr>\n",
       "    <tr>\n",
       "      <th>4</th>\n",
       "      <td>The Boys</td>\n",
       "      <td>action &amp; adventure,comedy a group of vigilante...</td>\n",
       "    </tr>\n",
       "    <tr>\n",
       "      <th>...</th>\n",
       "      <td>...</td>\n",
       "      <td>...</td>\n",
       "    </tr>\n",
       "    <tr>\n",
       "      <th>12348</th>\n",
       "      <td>A Fishing Story with Ronnie Green</td>\n",
       "      <td>2017,prime video a fishing story with ronnie g...</td>\n",
       "    </tr>\n",
       "    <tr>\n",
       "      <th>12349</th>\n",
       "      <td>CMT Most Shocking</td>\n",
       "      <td>-1 -1 -1</td>\n",
       "    </tr>\n",
       "    <tr>\n",
       "      <th>12350</th>\n",
       "      <td>NHL Road to the Outdoor Classics</td>\n",
       "      <td>2016,prime video road to the nhl outdoor class...</td>\n",
       "    </tr>\n",
       "    <tr>\n",
       "      <th>12351</th>\n",
       "      <td>Addy Media</td>\n",
       "      <td>2018,prime video addy media has one or more ep...</td>\n",
       "    </tr>\n",
       "    <tr>\n",
       "      <th>12352</th>\n",
       "      <td>My Dream Derelict Home</td>\n",
       "      <td>2014,free services my dream derelict home has ...</td>\n",
       "    </tr>\n",
       "  </tbody>\n",
       "</table>\n",
       "<p>12353 rows × 2 columns</p>\n",
       "</div>"
      ],
      "text/plain": [
       "                             SeriesTitle  \\\n",
       "0                           Breaking Bad   \n",
       "1                        Game of Thrones   \n",
       "2                         Rick and Morty   \n",
       "3                        Stranger Things   \n",
       "4                               The Boys   \n",
       "...                                  ...   \n",
       "12348  A Fishing Story with Ronnie Green   \n",
       "12349                  CMT Most Shocking   \n",
       "12350   NHL Road to the Outdoor Classics   \n",
       "12351                         Addy Media   \n",
       "12352             My Dream Derelict Home   \n",
       "\n",
       "                                                    tags  \n",
       "0      crime,drama when walter white, a new mexico ch...  \n",
       "1      action & adventure,drama seven noble families ...  \n",
       "2      animation,comedy rick is a mentally-unbalanced...  \n",
       "3      drama,fantasy when a young boy vanishes, a sma...  \n",
       "4      action & adventure,comedy a group of vigilante...  \n",
       "...                                                  ...  \n",
       "12348  2017,prime video a fishing story with ronnie g...  \n",
       "12349                                           -1 -1 -1  \n",
       "12350  2016,prime video road to the nhl outdoor class...  \n",
       "12351  2018,prime video addy media has one or more ep...  \n",
       "12352  2014,free services my dream derelict home has ...  \n",
       "\n",
       "[12353 rows x 2 columns]"
      ]
     },
     "execution_count": 12,
     "metadata": {},
     "output_type": "execute_result"
    }
   ],
   "source": [
    "new_df"
   ]
  },
  {
   "cell_type": "code",
   "execution_count": 13,
   "metadata": {},
   "outputs": [],
   "source": [
    "import nltk"
   ]
  },
  {
   "cell_type": "code",
   "execution_count": 14,
   "metadata": {},
   "outputs": [],
   "source": [
    "from nltk.stem.porter import PorterStemmer\n",
    "ps = PorterStemmer()"
   ]
  },
  {
   "cell_type": "code",
   "execution_count": 15,
   "metadata": {},
   "outputs": [],
   "source": [
    "def stem(text):\n",
    "    y = []\n",
    "    \n",
    "    for i in text.split():\n",
    "        y.append(ps.stem(i))\n",
    "        \n",
    "    return \" \".join(y)"
   ]
  },
  {
   "cell_type": "code",
   "execution_count": 16,
   "metadata": {},
   "outputs": [
    {
     "name": "stderr",
     "output_type": "stream",
     "text": [
      "C:\\Users\\ankit\\AppData\\Local\\Temp\\ipykernel_10572\\3213734980.py:1: SettingWithCopyWarning: \n",
      "A value is trying to be set on a copy of a slice from a DataFrame.\n",
      "Try using .loc[row_indexer,col_indexer] = value instead\n",
      "\n",
      "See the caveats in the documentation: https://pandas.pydata.org/pandas-docs/stable/user_guide/indexing.html#returning-a-view-versus-a-copy\n",
      "  new_df['tags'] = new_df['tags'].apply(stem)\n"
     ]
    }
   ],
   "source": [
    "new_df['tags'] = new_df['tags'].apply(stem)"
   ]
  },
  {
   "cell_type": "code",
   "execution_count": 17,
   "metadata": {},
   "outputs": [],
   "source": [
    "from sklearn.feature_extraction.text import CountVectorizer\n",
    "cv = CountVectorizer(max_features=12000,stop_words='english')"
   ]
  },
  {
   "cell_type": "code",
   "execution_count": 18,
   "metadata": {},
   "outputs": [],
   "source": [
    "vectors = cv.fit_transform(new_df['tags']).toarray()"
   ]
  },
  {
   "cell_type": "code",
   "execution_count": 19,
   "metadata": {},
   "outputs": [
    {
     "data": {
      "text/plain": [
       "array([[0, 0, 0, ..., 0, 0, 0],\n",
       "       [0, 0, 0, ..., 0, 0, 0],\n",
       "       [0, 0, 0, ..., 0, 0, 0],\n",
       "       ...,\n",
       "       [0, 0, 0, ..., 0, 0, 0],\n",
       "       [0, 0, 0, ..., 0, 0, 0],\n",
       "       [0, 0, 0, ..., 0, 0, 0]], dtype=int64)"
      ]
     },
     "execution_count": 19,
     "metadata": {},
     "output_type": "execute_result"
    }
   ],
   "source": [
    "vectors"
   ]
  },
  {
   "cell_type": "code",
   "execution_count": 20,
   "metadata": {},
   "outputs": [
    {
     "data": {
      "text/plain": [
       "array(['00', '000', '001', ..., 'أوجيني', '潘惠美', '부릉'], dtype=object)"
      ]
     },
     "execution_count": 20,
     "metadata": {},
     "output_type": "execute_result"
    }
   ],
   "source": [
    "cv.get_feature_names_out()"
   ]
  },
  {
   "cell_type": "code",
   "execution_count": 21,
   "metadata": {},
   "outputs": [],
   "source": [
    "from sklearn.metrics.pairwise import cosine_similarity"
   ]
  },
  {
   "cell_type": "code",
   "execution_count": 22,
   "metadata": {},
   "outputs": [],
   "source": [
    "similarity = cosine_similarity(vectors)"
   ]
  },
  {
   "cell_type": "code",
   "execution_count": 23,
   "metadata": {},
   "outputs": [
    {
     "data": {
      "text/plain": [
       "[(116, 0.6779669064975021),\n",
       " (692, 0.6674844956390601),\n",
       " (141, 0.6298438669252062),\n",
       " (101, 0.6254017837577625),\n",
       " (7, 0.624436085122555)]"
      ]
     },
     "execution_count": 23,
     "metadata": {},
     "output_type": "execute_result"
    }
   ],
   "source": [
    "sorted(list(enumerate(similarity[0])),reverse=True,key=lambda x:x[1])[1:6]"
   ]
  },
  {
   "cell_type": "code",
   "execution_count": 24,
   "metadata": {},
   "outputs": [],
   "source": [
    "def recommend(web):\n",
    "    movie_index = new_df[new_df['SeriesTitle'] == web].index[0]\n",
    "    distance = similarity[movie_index]\n",
    "    movie_list = sorted(list(enumerate(distance)),reverse=True,key=lambda x:x[1])[1:6]\n",
    "    \n",
    "    for i in movie_list:\n",
    "        print(new_df.iloc[i[0]].SeriesTitle)"
   ]
  },
  {
   "cell_type": "code",
   "execution_count": 25,
   "metadata": {},
   "outputs": [
    {
     "name": "stdout",
     "output_type": "stream",
     "text": [
      "Broadchurch\n",
      "American Crime\n",
      "YOU\n",
      "American Crime Story\n",
      "Sherlock\n"
     ]
    }
   ],
   "source": [
    "recommend('Breaking Bad')"
   ]
  },
  {
   "cell_type": "code",
   "execution_count": 26,
   "metadata": {},
   "outputs": [],
   "source": [
    "import pickle"
   ]
  },
  {
   "cell_type": "code",
   "execution_count": 27,
   "metadata": {},
   "outputs": [
    {
     "data": {
      "text/plain": [
       "array(['Breaking Bad', 'Game of Thrones', 'Rick and Morty', ...,\n",
       "       'NHL Road to the Outdoor Classics', 'Addy Media',\n",
       "       'My Dream Derelict Home'], dtype=object)"
      ]
     },
     "execution_count": 27,
     "metadata": {},
     "output_type": "execute_result"
    }
   ],
   "source": [
    "new_df['SeriesTitle'].values"
   ]
  },
  {
   "cell_type": "code",
   "execution_count": 28,
   "metadata": {},
   "outputs": [],
   "source": [
    "pickle.dump(new_df.to_dict(),open('web_dict.pkl','wb'))"
   ]
  },
  {
   "cell_type": "code",
   "execution_count": 29,
   "metadata": {},
   "outputs": [],
   "source": [
    "pickle.dump(similarity,open('similaritys.pkl','wb'))"
   ]
  }
 ],
 "metadata": {
  "kernelspec": {
   "display_name": "Python 3",
   "language": "python",
   "name": "python3"
  },
  "language_info": {
   "codemirror_mode": {
    "name": "ipython",
    "version": 3
   },
   "file_extension": ".py",
   "mimetype": "text/x-python",
   "name": "python",
   "nbconvert_exporter": "python",
   "pygments_lexer": "ipython3",
   "version": "3.11.3"
  }
 },
 "nbformat": 4,
 "nbformat_minor": 2
}
